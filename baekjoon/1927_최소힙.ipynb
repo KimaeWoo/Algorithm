{
 "cells": [
  {
   "cell_type": "code",
   "execution_count": null,
   "id": "deb79b03-1369-4369-9189-ea0a5b9b846e",
   "metadata": {},
   "outputs": [],
   "source": [
    "def add(PQ, x):\n",
    "    index = len(PQ)\n",
    "    PQ.append(x)  # 새로운 값을 리스트 끝에 추가\n",
    "    while index > 1:\n",
    "        parent = index // 2  # 부모 노드의 인덱스\n",
    "        if PQ[parent] > PQ[index]:  # 부모가 더 크면, 자식과 교환\n",
    "            PQ[index], PQ[parent] = PQ[parent], PQ[index]\n",
    "            index = parent  # 부모로 이동\n",
    "        else:\n",
    "            break  # 힙 조건 만족하면 종료\n",
    "    return 0\n",
    "\n",
    "def sub(PQ):\n",
    "    if len(PQ) <= 1:\n",
    "        print(0)  # 우선순위 큐가 비어 있으면 0 출력\n",
    "        return 0\n",
    "        \n",
    "    print(PQ[1])  # 루트값 출력\n",
    "    \n",
    "    # 마지막 요소를 루트로 이동\n",
    "    k = PQ.pop()  # 마지막 요소를 루트로 이동\n",
    "    if len(PQ) == 1:\n",
    "        return 0  # 큐에 더 이상 자식이 없으면 종료\n",
    "\n",
    "    PQ[1] = k  # 마지막 요소를 루트에 배치\n",
    "    \n",
    "    index = 1\n",
    "    while index * 2 < len(PQ):  # 자식 노드가 있을 때까지 반복\n",
    "        left = index * 2\n",
    "        right = left + 1\n",
    "        smallest = index\n",
    "\n",
    "        # 왼쪽 자식과 오른쪽 자식 중 더 작은 값을 찾음\n",
    "        if left < len(PQ) and PQ[left] < PQ[smallest]:\n",
    "            smallest = left\n",
    "        if right < len(PQ) and PQ[right] < PQ[smallest]:\n",
    "            smallest = right\n",
    "\n",
    "        if smallest != index:  # 힙 조건 위반 시 교환\n",
    "            PQ[index], PQ[smallest] = PQ[smallest], PQ[index]\n",
    "            index = smallest  # 교환 후 자식으로 이동\n",
    "        else:\n",
    "            break  # 힙 조건 만족하면 종료\n",
    "    return 0\n",
    "\n",
    "# 우선순위 큐 초기화 (1번 인덱스를 사용하기 위해 빈 값을 넣어줌)\n",
    "priorityQueue = [None]\n",
    "\n",
    "N = int(input())  # 입력받을 연산 횟수\n",
    "for i in range(N):\n",
    "    x = int(input())\n",
    "    if x == 0:\n",
    "        sub(priorityQueue)\n",
    "    else:\n",
    "        add(priorityQueue, x)"
   ]
  }
 ],
 "metadata": {
  "kernelspec": {
   "display_name": "Python 3 (ipykernel)",
   "language": "python",
   "name": "python3"
  },
  "language_info": {
   "codemirror_mode": {
    "name": "ipython",
    "version": 3
   },
   "file_extension": ".py",
   "mimetype": "text/x-python",
   "name": "python",
   "nbconvert_exporter": "python",
   "pygments_lexer": "ipython3",
   "version": "3.12.4"
  }
 },
 "nbformat": 4,
 "nbformat_minor": 5
}
